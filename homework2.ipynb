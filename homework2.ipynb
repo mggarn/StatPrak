{
 "cells": [
  {
   "cell_type": "code",
   "execution_count": 48,
   "metadata": {},
   "outputs": [
    {
     "name": "stdout",
     "output_type": "stream",
     "text": [
      "0.455 0.986 0.7354 \n",
      "0.659 0.5825 0.801 \n",
      "0.696 0.7734 0.1721 \n",
      "0.2378 0.1908 0.8105 \n",
      "0.1204 0.823 0.2231 \n",
      "0.94 0.88 0.6655 \n",
      "0.7534 0.3296 0.5806 \n",
      "0.8936 0.4167 0.525 \n",
      "0.7104 0.2966 0.6177 \n",
      "0.732 0.0829 0.5913 \n",
      "\n",
      "0.455\n",
      "0.5825\n",
      "0.696\n",
      "0.2378\n",
      "0.2231\n",
      "0.6655\n",
      "0.5806\n",
      "0.525\n",
      "0.6177\n",
      "0.5913\n"
     ]
    }
   ],
   "source": [
    "#Создайте двумерный массив 10x3, заполненный случайными значениями. В каждой строке выберите значение, наиболее близкое к 0.5.\n",
    "\n",
    "import numpy as np\n",
    "import random\n",
    "#с помощью np.random.random((10,3)) задать не вышло (не работало почему-то) - сделал по-своему:\n",
    "arrayone = np.arange(30, dtype = np.float16).reshape((10,3))\n",
    "i = int(0)\n",
    "j = int(0)\n",
    "minim = float()\n",
    "\n",
    "while i < 10:\n",
    "    while j < 3:\n",
    "        arrayone[i, j] = random.random()\n",
    "        print(arrayone[i, j], end = \" \")\n",
    "        j += 1\n",
    "    print()\n",
    "    i += 1\n",
    "    j = 0\n",
    "    \n",
    "print()\n",
    "\n",
    "i=0\n",
    "j=0\n",
    "while i < 10:\n",
    "    minim = arrayone[i,0]\n",
    "    while j < 3:\n",
    "        if (abs(arrayone[i,j] - 0.5) <= abs(minim - 0.5)) :\n",
    "            minim = arrayone[i,j]\n",
    "        j += 1\n",
    "    print(minim)\n",
    "    i += 1\n",
    "    j = 0\n",
    "    \n",
    "\n"
   ]
  },
  {
   "cell_type": "code",
   "execution_count": 18,
   "metadata": {},
   "outputs": [],
   "source": []
  },
  {
   "cell_type": "code",
   "execution_count": null,
   "metadata": {},
   "outputs": [],
   "source": []
  }
 ],
 "metadata": {
  "kernelspec": {
   "display_name": "Python 3",
   "language": "python",
   "name": "python3"
  },
  "language_info": {
   "codemirror_mode": {
    "name": "ipython",
    "version": 3
   },
   "file_extension": ".py",
   "mimetype": "text/x-python",
   "name": "python",
   "nbconvert_exporter": "python",
   "pygments_lexer": "ipython3",
   "version": "3.7.1"
  }
 },
 "nbformat": 4,
 "nbformat_minor": 2
}
