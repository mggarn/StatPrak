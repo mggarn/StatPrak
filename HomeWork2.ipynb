{
 "cells": [
  {
   "cell_type": "code",
   "execution_count": 78,
   "metadata": {},
   "outputs": [
    {
     "name": "stdout",
     "output_type": "stream",
     "text": [
      "Массив: \n",
      "0.5264 0.981 0.7827 \n",
      "0.305 0.451 0.4363 \n",
      "0.4636 0.4824 0.02786 \n",
      "0.27 0.971 0.7935 \n",
      "0.2329 0.0162 0.6733 \n",
      "0.1913 0.7505 0.1066 \n",
      "0.99 0.5566 0.768 \n",
      "0.2021 0.651 0.627 \n",
      "0.7515 0.6294 0.7866 \n",
      "0.916 0.1969 0.824 \n",
      "\n",
      "Наиболее близкое значение к 0.5: \n",
      "0.5264\n",
      "0.451\n",
      "0.4824\n",
      "0.27\n",
      "0.6733\n",
      "0.7505\n",
      "0.5566\n",
      "0.627\n",
      "0.6294\n",
      "0.1969\n"
     ]
    }
   ],
   "source": [
    "#Создайте двумерный массив 10x3, заполненный случайными значениями. В каждой строке выберите значение, наиболее близкое к 0.5.\n",
    "\n",
    "import numpy as np\n",
    "import random\n",
    "#с помощью np.random.random((10,3)) задать не вышло (не работало почему-то) - сделал по-своему:\n",
    "arrayone = np.arange(30, dtype = np.float16).reshape((10,3))\n",
    "i = int(0)\n",
    "j = int(0)\n",
    "minim = float()\n",
    "\n",
    "print(\"Массив: \")\n",
    "while i < 10:\n",
    "    while j < 3:\n",
    "        arrayone[i, j] = random.random()\n",
    "        print(arrayone[i, j], end = \" \")\n",
    "        j += 1\n",
    "    print()\n",
    "    i += 1\n",
    "    j = 0\n",
    "    \n",
    "print()\n",
    "print(\"Наиболее близкое значение к 0.5: \")\n",
    "\n",
    "i=0\n",
    "j=0\n",
    "while i < 10:\n",
    "    minim = arrayone[i,0]\n",
    "    while j < 3:\n",
    "        if (abs(arrayone[i,j] - 0.5) <= abs(minim - 0.5)) :\n",
    "            minim = arrayone[i,j]\n",
    "        j += 1\n",
    "    print(minim)\n",
    "    i += 1\n",
    "    j = 0"
   ]
  },
  {
   "cell_type": "code",
   "execution_count": 14,
   "metadata": {
    "scrolled": false
   },
   "outputs": [
    {
     "name": "stdout",
     "output_type": "stream",
     "text": [
      "Массив: \n",
      "4 5 5 7 2 2 \n",
      "1 6 3 2 9 1 \n",
      "3 6 8 5 2 7 \n",
      "8 4 2 3 5 2 \n",
      "2 2 2 6 7 8 \n",
      "2 4 1 1 8 2 \n",
      "\n",
      "Сумма по  1 -й строке:   25  Минимум в  1 -м столбце:   1\n",
      "Сумма по  2 -й строке:   22  Минимум в  2 -м столбце:   2\n",
      "Сумма по  3 -й строке:   31  Минимум в  3 -м столбце:   1\n",
      "Сумма по  4 -й строке:   24  Минимум в  4 -м столбце:   1\n",
      "Сумма по  5 -й строке:   27  Минимум в  5 -м столбце:   2\n",
      "Сумма по  6 -й строке:   18  Минимум в  6 -м столбце:   1\n",
      "\n",
      "Частное:\n",
      "25.0 \n",
      "11.0 \n",
      "31.0 \n",
      "24.0 \n",
      "13.5 \n",
      "18.0 \n"
     ]
    }
   ],
   "source": [
    "#Создайте двумерный массив 6x6, заполненный случайными значениями. \n",
    "#Затем сумму по каждой строке поделите на минимальный элемент из столбца с тем же индексом.\n",
    "\n",
    "import numpy as np\n",
    "import random\n",
    "\n",
    "arrayone = np.arange(36).reshape((6,6))\n",
    "minimal = np.zeros(6, dtype = int)\n",
    "summ = np.zeros(6, dtype = int)\n",
    "i = int(0)\n",
    "j = int(0)\n",
    "\n",
    "print(\"Массив: \")\n",
    "while i < 6:\n",
    "    while j < 6:\n",
    "        arrayone[i, j] = random.randint(1, 9) #задаем массив элементов\n",
    "        summ[i] += arrayone[i, j] #задаем массив построчных сумм\n",
    "        print(arrayone[i, j], end = \" \")\n",
    "        j += 1\n",
    "    print()\n",
    "    minimal[i] = 9\n",
    "    i += 1\n",
    "    j = 0\n",
    "    \n",
    "print()\n",
    "\n",
    "i = 0\n",
    "j = 0\n",
    "while j < 6:\n",
    "    while i < 6:\n",
    "        if arrayone[i, j] <= minimal[j]:\n",
    "            minimal[j] = arrayone[i, j]\n",
    "        i += 1\n",
    "    j += 1\n",
    "    i = 0\n",
    "    \n",
    "\n",
    "i = 0\n",
    "j = 0\n",
    "while i < 6:\n",
    "    print(\"Сумма по \", i+1, \"-й строке:  \", summ[i], \" Минимум в \",i+1,\"-м столбце:  \", minimal[i]) #нашли суммы и минималы \n",
    "    i += 1\n",
    "    \n",
    "print()\n",
    "print(\"Частное:\")\n",
    "i = 0\n",
    "while i < 6:\n",
    "        print(summ[i]/minimal[i], \"\")\n",
    "        i += 1"
   ]
  },
  {
   "cell_type": "code",
   "execution_count": 22,
   "metadata": {},
   "outputs": [
    {
     "name": "stdout",
     "output_type": "stream",
     "text": [
      "5\n"
     ]
    }
   ],
   "source": [
    "#На примере массива x = np.array([6, 2, 0, 3, 0, 0, 5, 7, 0]) \n",
    "#найдите максимальный элемент в массиве среди элементов, перед которыми стоит ноль.\n",
    "\n",
    "import numpy as np\n",
    "\n",
    "x = np.array([6, 2, 0, 3, 0, 0, 5, 7, 0])\n",
    "i = int(1)\n",
    "maximum = int(0)\n",
    "\n",
    "while i < 9:\n",
    "    if maximum < x[i]:\n",
    "        if x[i-1] == 0:\n",
    "            maximum = x[i]\n",
    "    i += 1\n",
    "\n",
    "print(maximum)"
   ]
  },
  {
   "cell_type": "code",
   "execution_count": 27,
   "metadata": {},
   "outputs": [
    {
     "name": "stdout",
     "output_type": "stream",
     "text": [
      "[2. 2. 2. 2. 1. 4. 1. 1. 2. 1.]\n"
     ]
    }
   ],
   "source": [
    "#Пусть заданы два массива x = np.ones(10) и i = np.array([0, 1, 2, 3, 5, 5, 5, 8]). \n",
    "#Прибавьте единицу к тем элементам массива x, индексы которых указаны в массиве i. \n",
    "#В случае, если некоторый индекс встретился в массиве i несколько раз, прибавьте к соответствующему \n",
    "#элементу массива x число вхождений данного индекса в массив i.\n",
    "\n",
    "import numpy as np\n",
    "\n",
    "x = np.ones(10)\n",
    "i = np.array([0, 1, 2, 3, 5, 5, 5, 8])\n",
    "j = int(0)\n",
    "index = int(0)\n",
    "\n",
    "while j < 8:\n",
    "    index = i[j]\n",
    "    x[index] += 1\n",
    "    j += 1\n",
    "    \n",
    "print(x)"
   ]
  },
  {
   "cell_type": "code",
   "execution_count": 155,
   "metadata": {},
   "outputs": [
    {
     "name": "stdout",
     "output_type": "stream",
     "text": [
      "{ 0 :[0,], 1 :[1,4], 2 :[2,5,8], 3 :[3,6,9,12], 4 :[7,10,13], 5 :[11,14], 6 :[15] }"
     ]
    }
   ],
   "source": [
    "#По заданному двумерному массиву размера NxN постройте словарь, ключи которого - индексы диагоналей, \n",
    "#параллельных побочной (нумерация начинается с 0), а значения - списки элементов исходного массива, \n",
    "#лежащих на соответствующих диагоналях. Решите задачу на примере массива a = np.arange(16).reshape(4, 4), \n",
    "#в результате должен получиться словарь {0: [0], 1: [1, 4], 2: [2, 5, 8], 3: [3, 6, 9, 12], 4: [7, 10, 13], 5: [11, 14], 6: [15]}.\n",
    "\n",
    "import numpy as np\n",
    "a = np.arange(16).reshape(4, 4)\n",
    "i = int(0)\n",
    "j = int(0)\n",
    "n = int(0)\n",
    "\n",
    "print(\"{ \", end = \"\")\n",
    "\n",
    "while n < 7:\n",
    "    print(n,\":\", end = \"\")\n",
    "    print(\"[\", end = \"\")\n",
    "    while i < 4:\n",
    "        while j < 4:\n",
    "            if (i == (n - j)):\n",
    "                print(a[i,j], end = \"\")\n",
    "                #обьясните пожалуйста как тут красиво запятые расставить :)\n",
    "                print(\",\" if (n>=3 and i != 3) or (n>=2 and n<3 and i != 2) or ( n<=1 and i != 1 ) or (n==0 and i != 0) else \"\", end = \"\")\n",
    "            j += 1\n",
    "        i += 1\n",
    "        j = 0\n",
    "    print(\"]\", end = \"\")\n",
    "    print(\",\" if n != 6 else \"\", end = \" \")\n",
    "    n += 1\n",
    "    i = 0\n",
    "    \n",
    "print(\"}\", end = \"\")\n"
   ]
  },
  {
   "cell_type": "code",
   "execution_count": null,
   "metadata": {},
   "outputs": [],
   "source": []
  }
 ],
 "metadata": {
  "kernelspec": {
   "display_name": "Python 3",
   "language": "python",
   "name": "python3"
  },
  "language_info": {
   "codemirror_mode": {
    "name": "ipython",
    "version": 3
   },
   "file_extension": ".py",
   "mimetype": "text/x-python",
   "name": "python",
   "nbconvert_exporter": "python",
   "pygments_lexer": "ipython3",
   "version": "3.7.1"
  }
 },
 "nbformat": 4,
 "nbformat_minor": 2
}
