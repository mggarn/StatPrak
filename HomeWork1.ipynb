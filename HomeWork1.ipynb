{
 "cells": [
  {
   "cell_type": "code",
   "execution_count": 4,
   "metadata": {},
   "outputs": [
    {
     "name": "stdout",
     "output_type": "stream",
     "text": [
      "Hello World\n"
     ]
    }
   ],
   "source": [
    "print(\"Hello World\")"
   ]
  },
  {
   "cell_type": "code",
   "execution_count": 19,
   "metadata": {},
   "outputs": [
    {
     "name": "stdout",
     "output_type": "stream",
     "text": [
      "What is your name?\n",
      "Magomed\n",
      "How old are you?\n",
      "20\n",
      "You will turn 100 years old in: \n",
      "2099\n"
     ]
    }
   ],
   "source": [
    "#task number 1 (input age, name and etc.)\n",
    "\n",
    "print(\"What is your name?\")\n",
    "name = str(input())\n",
    "\n",
    "print(\"How old are you?\")\n",
    "age = int(input())\n",
    "\n",
    "print(\"You will turn 100 years old in: \")\n",
    "year = 100 + 2019 - age\n",
    "print(year)"
   ]
  },
  {
   "cell_type": "code",
   "execution_count": 14,
   "metadata": {},
   "outputs": [
    {
     "name": "stdout",
     "output_type": "stream",
     "text": [
      "Number: \n",
      "25\n",
      "All the divisors are here: \n",
      "[1, 5, 25]\n"
     ]
    }
   ],
   "source": [
    "#task number 4 (find out all the divisors of the number)\n",
    "\n",
    "print(\"Number: \")\n",
    "number = int(input())\n",
    "\n",
    "divisors = []\n",
    "div = list(range(1,number+1))\n",
    "\n",
    "for n in div:\n",
    "    if number % n == 0:\n",
    "        divisors.append(n)\n",
    "print(\"All the divisors are here: \")\n",
    "print(divisors)"
   ]
  },
  {
   "cell_type": "code",
   "execution_count": null,
   "metadata": {},
   "outputs": [
    {
     "name": "stdout",
     "output_type": "stream",
     "text": [
      "Enter the number you guess: \n",
      "4\n",
      "Too low\n",
      "Enter the number you guess: \n",
      "6\n",
      "Too low\n",
      "Enter the number you guess: \n",
      "9\n",
      "Too high\n",
      "Enter the number you guess: \n",
      "8\n",
      "Too high\n",
      "Enter the number you guess: \n",
      "7\n",
      "Exactly right\n",
      "You had 5 tries\n",
      "Enter the number you guess: \n"
     ]
    }
   ],
   "source": [
    "#task number 9 (game with random)\n",
    "\n",
    "import random\n",
    "\n",
    "randomnum = random.randint(1,9)\n",
    "pickednum = 0\n",
    "k = 0\n",
    "\n",
    "\n",
    "while pickednum != (randomnum and pickednum != \"exit\"):\n",
    "    print(\"Enter the number you guess: \")\n",
    "    pickednum = input()\n",
    "    \n",
    "    if pickednum == \"exit\":\n",
    "        break\n",
    "    \n",
    "    pickednum = int(pickednum)\n",
    "    k += 1\n",
    "    \n",
    "    if pickednum < randomnum:\n",
    "        print(\"Too low\")\n",
    "    elif pickednum > randomnum:\n",
    "        print(\"Too high\")\n",
    "    else:\n",
    "        print(\"Exactly right\")\n",
    "        print(\"You had\",k,\"tries\")"
   ]
  }
 ],
 "metadata": {
  "kernelspec": {
   "display_name": "Python 3",
   "language": "python",
   "name": "python3"
  },
  "language_info": {
   "codemirror_mode": {
    "name": "ipython",
    "version": 3
   },
   "file_extension": ".py",
   "mimetype": "text/x-python",
   "name": "python",
   "nbconvert_exporter": "python",
   "pygments_lexer": "ipython3",
   "version": "3.7.1"
  }
 },
 "nbformat": 4,
 "nbformat_minor": 2
}
